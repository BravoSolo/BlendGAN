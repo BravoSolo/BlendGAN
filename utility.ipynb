{
 "cells": [
  {
   "cell_type": "code",
   "execution_count": null,
   "id": "bb0f9fa8-590b-410b-8f7f-a11fbc878ff0",
   "metadata": {
    "collapsed": false,
    "gradient": {
     "editing": false,
     "id": "bb0f9fa8-590b-410b-8f7f-a11fbc878ff0",
     "kernelId": "7de20274-dd0b-4d00-8470-fec34dc0311c",
     "source_hidden": false
    },
    "jupyter": {
     "outputs_hidden": false
    }
   },
   "outputs": [
    {
     "name": "stdout",
     "output_type": "stream",
     "text": [
      "ckpt:  ./pretrained_models/blendgan.pt\r\n",
      "truncation:  0.75\r\n"
     ]
    },
    {
     "name": "stdout",
     "output_type": "stream",
     "text": [
      "### generate mean_latent with 'g_ema.mean_latent'\r\n"
     ]
    },
    {
     "name": "stdout",
     "output_type": "stream",
     "text": [
      "\r",
      "  0%|                                                     | 0/1 [00:00<?, ?it/s]"
     ]
    },
    {
     "name": "stdout",
     "output_type": "stream",
     "text": [
      "\r",
      "  0%|                                                     | 0/1 [00:00<?, ?it/s]\r\n",
      "Done!\r\n"
     ]
    }
   ],
   "source": [
    "!python generate_image.py --size 1024 --pics 1 --ckpt ./pretrained_models/blendgan.pt --style_img ./test_imgs/jr_style_imgs/abstract_image_1017.jpeg --outdir results/generated_image"
   ]
  },
  {
   "cell_type": "code",
   "execution_count": null,
   "id": "262d3d08-823c-4268-be74-d5e4114cd8d2",
   "metadata": {
    "collapsed": false,
    "gradient": {
     "editing": false,
     "id": "262d3d08-823c-4268-be74-d5e4114cd8d2",
     "kernelId": "7de20274-dd0b-4d00-8470-fec34dc0311c",
     "source_hidden": false
    }
   },
   "outputs": [
    {
     "name": "stdout",
     "output_type": "stream",
     "text": [
      "ckpt:  ./pretrained_models/blendgan.pt\r\n"
     ]
    },
    {
     "name": "stdout",
     "output_type": "stream",
     "text": [
      "Loading psp encoders weights from irse50!\r\n"
     ]
    },
    {
     "name": "stdout",
     "output_type": "stream",
     "text": [
      "0\r\n"
     ]
    },
    {
     "name": "stdout",
     "output_type": "stream",
     "text": [
      "1\r\n"
     ]
    },
    {
     "name": "stdout",
     "output_type": "stream",
     "text": [
      "2\r\n"
     ]
    },
    {
     "name": "stdout",
     "output_type": "stream",
     "text": [
      "3\r\n"
     ]
    },
    {
     "name": "stdout",
     "output_type": "stream",
     "text": [
      "4\r\n"
     ]
    },
    {
     "name": "stdout",
     "output_type": "stream",
     "text": [
      "5\r\n"
     ]
    },
    {
     "name": "stdout",
     "output_type": "stream",
     "text": [
      "6\r\n"
     ]
    },
    {
     "name": "stdout",
     "output_type": "stream",
     "text": [
      "7\r\n"
     ]
    },
    {
     "name": "stdout",
     "output_type": "stream",
     "text": [
      "Done!\r\n"
     ]
    }
   ],
   "source": [
    "!python style_transfer_folder.py --size 1024 --ckpt ./pretrained_models/blendgan.pt --psp_encoder_ckpt ./pretrained_models/psp_encoder.pt --style_img_path ./test_imgs/jr_style_imgs/ --input_img_path ./test_imgs/face_imgs/ --outdir results/jr_style_transfer/"
   ]
  },
  {
   "cell_type": "code",
   "execution_count": null,
   "id": "f6440ee1-6b2f-4db0-b42b-8708edde1725",
   "metadata": {
    "collapsed": false,
    "gradient": {
     "editing": false,
     "id": "f6440ee1-6b2f-4db0-b42b-8708edde1725",
     "kernelId": "7de20274-dd0b-4d00-8470-fec34dc0311c",
     "source_hidden": false
    }
   },
   "outputs": [],
   "source": []
  }
 ],
 "metadata": {
  "kernelspec": {
   "display_name": "Python 3 (ipykernel)",
   "language": "python",
   "name": "python3"
  },
  "language_info": {
   "codemirror_mode": {
    "name": "ipython",
    "version": 3
   },
   "file_extension": ".py",
   "mimetype": "text/x-python",
   "name": "python",
   "nbconvert_exporter": "python",
   "pygments_lexer": "ipython3",
   "version": "3.8.12"
  }
 },
 "nbformat": 4,
 "nbformat_minor": 5
}
