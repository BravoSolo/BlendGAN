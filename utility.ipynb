{
 "cells": [
  {
   "cell_type": "code",
   "execution_count": null,
   "id": "bb0f9fa8-590b-410b-8f7f-a11fbc878ff0",
   "metadata": {
    "collapsed": false,
    "gradient": {
     "editing": false,
     "id": "bb0f9fa8-590b-410b-8f7f-a11fbc878ff0",
     "kernelId": "8101f0ad-4910-454f-8efc-44ebe7eb8c32",
     "source_hidden": false
    },
    "jupyter": {
     "outputs_hidden": false
    }
   },
   "outputs": [],
   "source": [
    "!python generate_image.py --size 1024 --pics 1 --ckpt ./pretrained_models/blendgan.pt --style_img ./test_imgs/jr_style_imgs/abstract_image_1017.jpeg --outdir results/generated_image"
   ]
  }
 ],
 "metadata": {
  "kernelspec": {
   "display_name": "Python 3 (ipykernel)",
   "language": "python",
   "name": "python3"
  },
  "language_info": {
   "codemirror_mode": {
    "name": "ipython",
    "version": 3
   },
   "file_extension": ".py",
   "mimetype": "text/x-python",
   "name": "python",
   "nbconvert_exporter": "python",
   "pygments_lexer": "ipython3",
   "version": "3.8.12"
  }
 },
 "nbformat": 4,
 "nbformat_minor": 5
}
